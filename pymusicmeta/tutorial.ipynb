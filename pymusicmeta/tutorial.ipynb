{
 "cells": [
  {
   "cell_type": "code",
   "execution_count": 1,
   "metadata": {},
   "outputs": [],
   "source": [
    "%load_ext autoreload\n",
    "%autoreload 2"
   ]
  },
  {
   "attachments": {},
   "cell_type": "markdown",
   "metadata": {},
   "source": [
    "# PyMusicMeta tutorial"
   ]
  },
  {
   "cell_type": "code",
   "execution_count": 2,
   "metadata": {},
   "outputs": [],
   "source": [
    "import pymusicmeta as pmm\n",
    "\n",
    "from corelib import Alias\n",
    "from rdflib import URIRef, RDF"
   ]
  },
  {
   "cell_type": "code",
   "execution_count": 3,
   "metadata": {},
   "outputs": [],
   "source": [
    "meta_kg = pmm.MusicMetaGraph()"
   ]
  },
  {
   "cell_type": "markdown",
   "metadata": {},
   "source": [
    "## Create a Music Artist"
   ]
  },
  {
   "cell_type": "code",
   "execution_count": 4,
   "metadata": {},
   "outputs": [],
   "source": [
    "# Let's add a music artist\n",
    "\n",
    "bob_dylan = pmm.MusicArtist(\n",
    "    uri=\"https://www.wikidata.org/wiki/Q392\",  # Wikidata URI of Bob Dylan\n",
    "    aliases=[\n",
    "        Alias(\"https://polifonia.examples/alias/bobdylan\",\n",
    "              name=\"Bob Dylan\", first_name=\"Bob\", last_name=\"Dylan\",\n",
    "              language=\"https://polifonia.examples/language/american\")\n",
    "        ],\n",
    "    genres=[\n",
    "        \"https://www.wikidata.org/wiki/Q11399\",  # Rock music\n",
    "        \"https://www.wikidata.org/wiki/Q9759\",  # Blues music\n",
    "        ],  \n",
    "    influences=[\n",
    "        \"https://www.wikidata.org/wiki/Q4061\",  # Woody Guthrie\n",
    "        \"https://www.wikidata.org/wiki/Q6711\",  # Allen Ginsberg\n",
    "    ],\n",
    ")\n"
   ]
  },
  {
   "cell_type": "code",
   "execution_count": 5,
   "metadata": {},
   "outputs": [
    {
     "data": {
      "text/plain": [
       "{(rdflib.term.URIRef('https://www.wikidata.org/wiki/Q392'),\n",
       "  rdflib.term.URIRef('http://w3id.org/polifonia/core/hasAlias'),\n",
       "  rdflib.term.URIRef('https://polifonia.examples/alias/bobdylan')),\n",
       " (rdflib.term.URIRef('https://www.wikidata.org/wiki/Q392'),\n",
       "  rdflib.term.URIRef('http://w3id.org/polifonia/music-meta/hasGenre'),\n",
       "  rdflib.term.URIRef('https://www.wikidata.org/wiki/Q11399')),\n",
       " (rdflib.term.URIRef('https://www.wikidata.org/wiki/Q392'),\n",
       "  rdflib.term.URIRef('http://w3id.org/polifonia/music-meta/hasGenre'),\n",
       "  rdflib.term.URIRef('https://www.wikidata.org/wiki/Q9759')),\n",
       " (rdflib.term.URIRef('https://www.wikidata.org/wiki/Q392'),\n",
       "  rdflib.term.URIRef('http://w3id.org/polifonia/music-meta/isInfluencedBy'),\n",
       "  rdflib.term.URIRef('https://www.wikidata.org/wiki/Q4061')),\n",
       " (rdflib.term.URIRef('https://www.wikidata.org/wiki/Q392'),\n",
       "  rdflib.term.URIRef('http://w3id.org/polifonia/music-meta/isInfluencedBy'),\n",
       "  rdflib.term.URIRef('https://www.wikidata.org/wiki/Q6711')),\n",
       " (rdflib.term.URIRef('https://www.wikidata.org/wiki/Q392'),\n",
       "  rdflib.term.URIRef('http://www.w3.org/1999/02/22-rdf-syntax-ns#type'),\n",
       "  rdflib.term.URIRef('http://w3id.org/polifonia/core/MusicArtist')),\n",
       " (rdflib.term.URIRef('https://www.wikidata.org/wiki/Q4061'),\n",
       "  rdflib.term.URIRef('http://w3id.org/polifonia/music-meta/influenced'),\n",
       "  rdflib.term.URIRef('https://www.wikidata.org/wiki/Q392')),\n",
       " (rdflib.term.URIRef('https://www.wikidata.org/wiki/Q6711'),\n",
       "  rdflib.term.URIRef('http://w3id.org/polifonia/music-meta/influenced'),\n",
       "  rdflib.term.URIRef('https://www.wikidata.org/wiki/Q392'))}"
      ]
     },
     "execution_count": 5,
     "metadata": {},
     "output_type": "execute_result"
    }
   ],
   "source": [
    "bob_dylan._triple_store"
   ]
  },
  {
   "cell_type": "code",
   "execution_count": 6,
   "metadata": {},
   "outputs": [],
   "source": [
    "beatles = pmm.MusicEnsemble(\n",
    "    uri=\"https://www.wikidata.org/wiki/Q1299\",  # TheBeatles\n",
    "    formation_place=\"https://www.wikidata.org/wiki/Q24826\", #Liverpool\n",
    "    genres=[\n",
    "        \"https://www.wikidata.org/wiki/Q11399\", #rock\n",
    "        \"https://www.wikidata.org/wiki/Q37073\", #pop\n",
    "    ],\n",
    "    activity_start_date=\"01/01/1960\",\n",
    "    activity_end_date=\"09/12/1980\",\n",
    ")"
   ]
  },
  {
   "cell_type": "code",
   "execution_count": 7,
   "metadata": {},
   "outputs": [],
   "source": [
    "beatles.add_member(\n",
    "    artist=\"https://www.wikidata.org/wiki/Q2599\",  # Paul\n",
    "    membership_start=\"1960\",\n",
    "    membership_end=\"1970\",\n",
    "    member_role=\"https://www.wikidata.org/wiki/Q1278335\", # instrumentalist\n",
    ")"
   ]
  },
  {
   "cell_type": "code",
   "execution_count": 8,
   "metadata": {},
   "outputs": [
    {
     "data": {
      "text/plain": [
       "{(rdflib.term.URIRef('Base_resoruce_URI_(TODO)_/MusicEnsembleMembership/Q1299_Q2599'),\n",
       "  rdflib.term.URIRef('http://w3id.org/polifonia/core/hasTimeInterval'),\n",
       "  rdflib.term.URIRef('baseTODO/TimeInterval/1960_1970')),\n",
       " (rdflib.term.URIRef('Base_resoruce_URI_(TODO)_/MusicEnsembleMembership/Q1299_Q2599'),\n",
       "  rdflib.term.URIRef('http://w3id.org/polifonia/core/involvesRole'),\n",
       "  rdflib.term.URIRef('https://www.wikidata.org/wiki/Q1278335')),\n",
       " (rdflib.term.URIRef('Base_resoruce_URI_(TODO)_/MusicEnsembleMembership/Q1299_Q2599'),\n",
       "  rdflib.term.URIRef('http://w3id.org/polifonia/music-meta/hasMemberOfMusicEnsemble'),\n",
       "  rdflib.term.URIRef('https://www.wikidata.org/wiki/Q2599')),\n",
       " (rdflib.term.URIRef('Base_resoruce_URI_(TODO)_/MusicEnsembleMembership/Q1299_Q2599'),\n",
       "  rdflib.term.URIRef('http://w3id.org/polifonia/music-meta/involvesMusicEnsemble'),\n",
       "  rdflib.term.URIRef('https://www.wikidata.org/wiki/Q1299')),\n",
       " (rdflib.term.URIRef('Base_resoruce_URI_(TODO)_/MusicEnsembleMembership/Q1299_Q2599'),\n",
       "  rdflib.term.URIRef('http://www.w3.org/1999/02/22-rdf-syntax-ns#type'),\n",
       "  rdflib.term.URIRef('http://w3id.org/polifonia/music-meta/MusicEnsembleMembership')),\n",
       " (rdflib.term.URIRef('baseTODO/TimeInterval/1960_1970'),\n",
       "  rdflib.term.URIRef('http://w3id.org/polifonia/core/endTime'),\n",
       "  rdflib.term.Literal('1970', datatype=rdflib.term.URIRef('http://www.w3.org/2001/XMLSchema#dateTime'))),\n",
       " (rdflib.term.URIRef('baseTODO/TimeInterval/1960_1970'),\n",
       "  rdflib.term.URIRef('http://w3id.org/polifonia/core/startTime'),\n",
       "  rdflib.term.Literal('1960', datatype=rdflib.term.URIRef('http://www.w3.org/2001/XMLSchema#dateTime'))),\n",
       " (rdflib.term.URIRef('baseTODO/TimeInterval/1960_1970'),\n",
       "  rdflib.term.URIRef('http://www.w3.org/1999/02/22-rdf-syntax-ns#type'),\n",
       "  rdflib.term.URIRef('http://w3id.org/polifonia/core/TimeInterval')),\n",
       " (rdflib.term.URIRef('https://www.wikidata.org/wiki/Q1299'),\n",
       "  rdflib.term.URIRef('http://w3id.org/polifonia/music-meta/activityEndDate'),\n",
       "  rdflib.term.Literal('0901-01-01', datatype=rdflib.term.URIRef('http://www.w3.org/2001/XMLSchema#date'))),\n",
       " (rdflib.term.URIRef('https://www.wikidata.org/wiki/Q1299'),\n",
       "  rdflib.term.URIRef('http://w3id.org/polifonia/music-meta/activityStartDate'),\n",
       "  rdflib.term.Literal('0101-01-01', datatype=rdflib.term.URIRef('http://www.w3.org/2001/XMLSchema#date'))),\n",
       " (rdflib.term.URIRef('https://www.wikidata.org/wiki/Q1299'),\n",
       "  rdflib.term.URIRef('http://w3id.org/polifonia/music-meta/hasGenre'),\n",
       "  rdflib.term.URIRef('https://www.wikidata.org/wiki/Q11399')),\n",
       " (rdflib.term.URIRef('https://www.wikidata.org/wiki/Q1299'),\n",
       "  rdflib.term.URIRef('http://w3id.org/polifonia/music-meta/hasGenre'),\n",
       "  rdflib.term.URIRef('https://www.wikidata.org/wiki/Q37073')),\n",
       " (rdflib.term.URIRef('https://www.wikidata.org/wiki/Q1299'),\n",
       "  rdflib.term.URIRef('http://w3id.org/polifonia/music-meta/hasMember'),\n",
       "  rdflib.term.URIRef('https://www.wikidata.org/wiki/Q2599')),\n",
       " (rdflib.term.URIRef('https://www.wikidata.org/wiki/Q1299'),\n",
       "  rdflib.term.URIRef('http://w3id.org/polifonia/music-meta/wasFormedIn'),\n",
       "  rdflib.term.URIRef('https://www.wikidata.org/wiki/Q24826')),\n",
       " (rdflib.term.URIRef('https://www.wikidata.org/wiki/Q1299'),\n",
       "  rdflib.term.URIRef('http://www.w3.org/1999/02/22-rdf-syntax-ns#type'),\n",
       "  rdflib.term.URIRef('http://w3id.org/polifonia/core/MusicArtist')),\n",
       " (rdflib.term.URIRef('https://www.wikidata.org/wiki/Q1299'),\n",
       "  rdflib.term.URIRef('http://www.w3.org/1999/02/22-rdf-syntax-ns#type'),\n",
       "  rdflib.term.URIRef('http://w3id.org/polifonia/music-meta/MusicEnsemble')),\n",
       " (rdflib.term.URIRef('https://www.wikidata.org/wiki/Q2599'),\n",
       "  rdflib.term.URIRef('http://w3id.org/polifonia/music-meta/isMemberOf'),\n",
       "  rdflib.term.URIRef('https://www.wikidata.org/wiki/Q1299'))}"
      ]
     },
     "execution_count": 8,
     "metadata": {},
     "output_type": "execute_result"
    }
   ],
   "source": [
    "beatles._triple_store"
   ]
  },
  {
   "cell_type": "code",
   "execution_count": null,
   "metadata": {},
   "outputs": [],
   "source": []
  },
  {
   "cell_type": "markdown",
   "metadata": {},
   "source": [
    "## Create a Music Entity"
   ]
  },
  {
   "cell_type": "code",
   "execution_count": 21,
   "metadata": {},
   "outputs": [],
   "source": [
    "creative_process = pmm.CreativeProcess(\n",
    "    uri=\"creative_process_of_let_it_be\",\n",
    "    process_start_date=\"10/10/1969\",\n",
    "    process_end_date=\"10/12/1969\",\n",
    "    authors=[beatles._uri]\n",
    ")"
   ]
  },
  {
   "cell_type": "code",
   "execution_count": 22,
   "metadata": {},
   "outputs": [],
   "source": [
    "creative_process.add_author(\n",
    "    \"https://www.wikidata.org/wiki/Q2599\",  # Paul wrote Let It Be\n",
    "    role=\"composer\"\n",
    ")"
   ]
  },
  {
   "cell_type": "code",
   "execution_count": 23,
   "metadata": {},
   "outputs": [
    {
     "data": {
      "text/plain": [
       "{(rdflib.term.URIRef('baseTODO/TimeInterval/10/10/1969_10/12/1969'),\n",
       "  rdflib.term.URIRef('http://w3id.org/polifonia/core/endTime'),\n",
       "  rdflib.term.Literal('10/12/1969', datatype=rdflib.term.URIRef('http://www.w3.org/2001/XMLSchema#dateTime'))),\n",
       " (rdflib.term.URIRef('baseTODO/TimeInterval/10/10/1969_10/12/1969'),\n",
       "  rdflib.term.URIRef('http://w3id.org/polifonia/core/startTime'),\n",
       "  rdflib.term.Literal('10/10/1969', datatype=rdflib.term.URIRef('http://www.w3.org/2001/XMLSchema#dateTime'))),\n",
       " (rdflib.term.URIRef('baseTODO/TimeInterval/10/10/1969_10/12/1969'),\n",
       "  rdflib.term.URIRef('http://www.w3.org/1999/02/22-rdf-syntax-ns#type'),\n",
       "  rdflib.term.URIRef('http://w3id.org/polifonia/core/TimeInterval')),\n",
       " (rdflib.term.URIRef('creative_proc_plus_agent_plus_role_TODO'),\n",
       "  rdflib.term.URIRef('http://w3id.org/polifonia/core/involvesAgent'),\n",
       "  rdflib.term.URIRef('https://www.wikidata.org/wiki/Q2599')),\n",
       " (rdflib.term.URIRef('creative_proc_plus_agent_plus_role_TODO'),\n",
       "  rdflib.term.URIRef('http://w3id.org/polifonia/core/involvesRole'),\n",
       "  rdflib.term.URIRef('composer')),\n",
       " (rdflib.term.URIRef('creative_proc_plus_agent_plus_role_TODO'),\n",
       "  rdflib.term.URIRef('http://www.w3.org/1999/02/22-rdf-syntax-ns#type'),\n",
       "  rdflib.term.URIRef('http://w3id.org/polifonia/core/AgentRole')),\n",
       " (rdflib.term.URIRef('creative_process_of_let_it_be'),\n",
       "  rdflib.term.URIRef('http://w3id.org/polifonia/core/hasAgentRole'),\n",
       "  rdflib.term.URIRef('creative_proc_plus_agent_plus_role_TODO')),\n",
       " (rdflib.term.URIRef('creative_process_of_let_it_be'),\n",
       "  rdflib.term.URIRef('http://w3id.org/polifonia/core/hasTimeInterval'),\n",
       "  rdflib.term.URIRef('baseTODO/TimeInterval/10/10/1969_10/12/1969')),\n",
       " (rdflib.term.URIRef('creative_process_of_let_it_be'),\n",
       "  rdflib.term.URIRef('http://w3id.org/polifonia/core/involvesAgent'),\n",
       "  rdflib.term.URIRef('https://www.wikidata.org/wiki/Q1299')),\n",
       " (rdflib.term.URIRef('creative_process_of_let_it_be'),\n",
       "  rdflib.term.URIRef('http://w3id.org/polifonia/core/involvesAgent'),\n",
       "  rdflib.term.URIRef('https://www.wikidata.org/wiki/Q2599')),\n",
       " (rdflib.term.URIRef('creative_process_of_let_it_be'),\n",
       "  rdflib.term.URIRef('http://www.w3.org/1999/02/22-rdf-syntax-ns#type'),\n",
       "  rdflib.term.URIRef('http://w3id.org/polifonia/core/TimeIndexedSituation')),\n",
       " (rdflib.term.URIRef('https://www.wikidata.org/wiki/Q1299'),\n",
       "  rdflib.term.URIRef('http://w3id.org/polifonia/core/isInvolvedIn'),\n",
       "  rdflib.term.URIRef('creative_process_of_let_it_be')),\n",
       " (rdflib.term.URIRef('https://www.wikidata.org/wiki/Q2599'),\n",
       "  rdflib.term.URIRef('http://w3id.org/polifonia/core/isInvolvedIn'),\n",
       "  rdflib.term.URIRef('creative_process_of_let_it_be'))}"
      ]
     },
     "execution_count": 23,
     "metadata": {},
     "output_type": "execute_result"
    }
   ],
   "source": [
    "creative_process._triple_store"
   ]
  },
  {
   "cell_type": "markdown",
   "metadata": {},
   "source": [
    "## Final step: KG creation"
   ]
  },
  {
   "cell_type": "code",
   "execution_count": 24,
   "metadata": {},
   "outputs": [],
   "source": [
    "from pymusicmeta import MusicMetaGraph\n",
    "\n",
    "g = MusicMetaGraph()\n",
    "\n",
    "# Add artists\n",
    "g.add_tripled_object(beatles)\n",
    "g.add_tripled_object(bob_dylan)\n",
    "\n",
    "# Add creative process\n",
    "g.add_tripled_object(creative_process)"
   ]
  },
  {
   "cell_type": "code",
   "execution_count": 25,
   "metadata": {},
   "outputs": [
    {
     "name": "stdout",
     "output_type": "stream",
     "text": [
      "@prefix mm: <http://w3id.org/polifonia/music-meta/> .\n",
      "@prefix ns1: <http://w3id.org/polifonia/core/> .\n",
      "@prefix xsd: <http://www.w3.org/2001/XMLSchema#> .\n",
      "\n",
      "<Base_resoruce_URI_(TODO)_/MusicEnsembleMembership/Q1299_Q2599> a mm:MusicEnsembleMembership ;\n",
      "    ns1:hasTimeInterval <baseTODO/TimeInterval/1960_1970> ;\n",
      "    ns1:involvesRole <https://www.wikidata.org/wiki/Q1278335> ;\n",
      "    mm:hasMemberOfMusicEnsemble <https://www.wikidata.org/wiki/Q2599> ;\n",
      "    mm:involvesMusicEnsemble <https://www.wikidata.org/wiki/Q1299> .\n",
      "\n",
      "<baseTODO/TimeInterval/10/10/1969_10/12/1969> a ns1:TimeInterval ;\n",
      "    ns1:endTime \"10/12/1969\"^^xsd:dateTime ;\n",
      "    ns1:startTime \"10/10/1969\"^^xsd:dateTime .\n",
      "\n",
      "<baseTODO/TimeInterval/1960_1970> a ns1:TimeInterval ;\n",
      "    ns1:endTime \"1970\"^^xsd:dateTime ;\n",
      "    ns1:startTime \"1960\"^^xsd:dateTime .\n",
      "\n",
      "<creative_proc_plus_agent_plus_role_TODO> a ns1:AgentRole ;\n",
      "    ns1:involvesAgent <https://www.wikidata.org/wiki/Q2599> ;\n",
      "    ns1:involvesRole <composer> .\n",
      "\n",
      "<https://www.wikidata.org/wiki/Q4061> mm:influenced <https://www.wikidata.org/wiki/Q392> .\n",
      "\n",
      "<https://www.wikidata.org/wiki/Q6711> mm:influenced <https://www.wikidata.org/wiki/Q392> .\n",
      "\n",
      "<creative_process_of_let_it_be> a ns1:TimeIndexedSituation ;\n",
      "    ns1:hasAgentRole <creative_proc_plus_agent_plus_role_TODO> ;\n",
      "    ns1:hasTimeInterval <baseTODO/TimeInterval/10/10/1969_10/12/1969> ;\n",
      "    ns1:involvesAgent <https://www.wikidata.org/wiki/Q1299>,\n",
      "        <https://www.wikidata.org/wiki/Q2599> .\n",
      "\n",
      "<https://www.wikidata.org/wiki/Q392> a ns1:MusicArtist ;\n",
      "    ns1:hasAlias <https://polifonia.examples/alias/bobdylan> ;\n",
      "    mm:hasGenre <https://www.wikidata.org/wiki/Q11399>,\n",
      "        <https://www.wikidata.org/wiki/Q9759> ;\n",
      "    mm:isInfluencedBy <https://www.wikidata.org/wiki/Q4061>,\n",
      "        <https://www.wikidata.org/wiki/Q6711> .\n",
      "\n",
      "<https://www.wikidata.org/wiki/Q1299> a ns1:MusicArtist,\n",
      "        mm:MusicEnsemble ;\n",
      "    ns1:isInvolvedIn <creative_process_of_let_it_be> ;\n",
      "    mm:activityEndDate \"0901-01-01\"^^xsd:date ;\n",
      "    mm:activityStartDate \"0101-01-01\"^^xsd:date ;\n",
      "    mm:hasGenre <https://www.wikidata.org/wiki/Q11399>,\n",
      "        <https://www.wikidata.org/wiki/Q37073> ;\n",
      "    mm:hasMember <https://www.wikidata.org/wiki/Q2599> ;\n",
      "    mm:wasFormedIn <https://www.wikidata.org/wiki/Q24826> .\n",
      "\n",
      "<https://www.wikidata.org/wiki/Q2599> ns1:isInvolvedIn <creative_process_of_let_it_be> ;\n",
      "    mm:isMemberOf <https://www.wikidata.org/wiki/Q1299> .\n",
      "\n",
      "\n"
     ]
    }
   ],
   "source": [
    "print(g.serialize())"
   ]
  },
  {
   "cell_type": "code",
   "execution_count": null,
   "metadata": {},
   "outputs": [],
   "source": []
  },
  {
   "cell_type": "code",
   "execution_count": null,
   "metadata": {},
   "outputs": [],
   "source": []
  }
 ],
 "metadata": {
  "kernelspec": {
   "display_name": "choco",
   "language": "python",
   "name": "python3"
  },
  "language_info": {
   "codemirror_mode": {
    "name": "ipython",
    "version": 3
   },
   "file_extension": ".py",
   "mimetype": "text/x-python",
   "name": "python",
   "nbconvert_exporter": "python",
   "pygments_lexer": "ipython3",
   "version": "3.9.11"
  },
  "orig_nbformat": 4,
  "vscode": {
   "interpreter": {
    "hash": "9451ea1bf9e02c59b6ca0eabeecd8c422ceaa9dcbba8005fe84a5f52aabda9f4"
   }
  }
 },
 "nbformat": 4,
 "nbformat_minor": 2
}
