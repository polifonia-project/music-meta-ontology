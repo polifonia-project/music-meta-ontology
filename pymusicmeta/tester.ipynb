{
 "cells": [
  {
   "cell_type": "code",
   "execution_count": 1,
   "metadata": {},
   "outputs": [],
   "source": [
    "%load_ext autoreload\n",
    "%autoreload 2"
   ]
  },
  {
   "attachments": {},
   "cell_type": "markdown",
   "metadata": {},
   "source": [
    "# pyMusicMeta tutorial"
   ]
  },
  {
   "cell_type": "code",
   "execution_count": 2,
   "metadata": {},
   "outputs": [],
   "source": [
    "import pymusicmeta as pmm"
   ]
  },
  {
   "cell_type": "code",
   "execution_count": 4,
   "metadata": {},
   "outputs": [],
   "source": [
    "a = pmm.MusicArtist(name=\"GiudaPane\", genre=\"rock\")"
   ]
  },
  {
   "cell_type": "code",
   "execution_count": 6,
   "metadata": {},
   "outputs": [
    {
     "data": {
      "text/plain": [
       "[(None,\n",
       "  rdflib.term.URIRef('http://www.w3.org/1999/02/22-rdf-syntax-ns#type'),\n",
       "  rdflib.term.URIRef('http://w3id.org/polifonia/core/MusicArtist')),\n",
       " (None,\n",
       "  rdflib.term.URIRef('http://w3id.org/polifonia/core/hasName'),\n",
       "  rdflib.term.Literal('GiudaPane')),\n",
       " (None,\n",
       "  rdflib.term.URIRef('http://w3id.org/polifonia/music-meta/hasGenre'),\n",
       "  rdflib.term.Literal('rock'))]"
      ]
     },
     "execution_count": 6,
     "metadata": {},
     "output_type": "execute_result"
    }
   ],
   "source": [
    "a._triple_store"
   ]
  },
  {
   "cell_type": "code",
   "execution_count": 8,
   "metadata": {},
   "outputs": [],
   "source": [
    "g = MusicMetaGraph()"
   ]
  },
  {
   "cell_type": "code",
   "execution_count": 9,
   "metadata": {},
   "outputs": [],
   "source": [
    "g.add_artist(a)"
   ]
  },
  {
   "cell_type": "code",
   "execution_count": 12,
   "metadata": {},
   "outputs": [
    {
     "ename": "TypeError",
     "evalue": "triples() missing 1 required positional argument: 'triple'",
     "output_type": "error",
     "traceback": [
      "\u001b[0;31m---------------------------------------------------------------------------\u001b[0m",
      "\u001b[0;31mTypeError\u001b[0m                                 Traceback (most recent call last)",
      "\u001b[1;32m/Users/jacopodeberardinis/Documents/projects/musicmeta-ontology/musicmeta/tester.ipynb Cell 8\u001b[0m in \u001b[0;36m<cell line: 1>\u001b[0;34m()\u001b[0m\n\u001b[0;32m----> <a href='vscode-notebook-cell:/Users/jacopodeberardinis/Documents/projects/musicmeta-ontology/musicmeta/tester.ipynb#X36sZmlsZQ%3D%3D?line=0'>1</a>\u001b[0m g\u001b[39m.\u001b[39;49mtriples()\n",
      "\u001b[0;31mTypeError\u001b[0m: triples() missing 1 required positional argument: 'triple'"
     ]
    }
   ],
   "source": [
    "g.triples()"
   ]
  },
  {
   "attachments": {},
   "cell_type": "markdown",
   "metadata": {},
   "source": [
    "### AutoGraffoo test"
   ]
  },
  {
   "cell_type": "code",
   "execution_count": null,
   "metadata": {},
   "outputs": [],
   "source": [
    "from rdflib import Graph as RDFGraph\n",
    "from rdflib.extras.external_graph_libs import rdflib_to_networkx_graph\n",
    "import networkx as nx\n",
    "\n",
    "import networkx as nx\n",
    "from networkx import Graph as NXGraph\n",
    "import matplotlib.pyplot as plt"
   ]
  },
  {
   "cell_type": "code",
   "execution_count": null,
   "metadata": {},
   "outputs": [],
   "source": [
    "source_rdf = \"./alignment/data/doremus.ttl\""
   ]
  },
  {
   "cell_type": "code",
   "execution_count": null,
   "metadata": {},
   "outputs": [],
   "source": [
    "# RDF graph loading\n",
    "rg = RDFGraph()\n",
    "rg.parse(source_rdf, format='turtle')\n",
    "print(\"rdflib Graph loaded successfully with {} triples\".format(len(rg)))"
   ]
  },
  {
   "cell_type": "code",
   "execution_count": null,
   "metadata": {},
   "outputs": [],
   "source": [
    "# Conversion of rdflib.Graph to networkx.Graph\n",
    "G = rdflib_to_networkx_graph(rg)\n",
    "print(\"networkx Graph loaded successfully with length {}\".format(len(G)))"
   ]
  },
  {
   "cell_type": "code",
   "execution_count": null,
   "metadata": {},
   "outputs": [],
   "source": [
    "nx.write_graphml(\n",
    "    G, \"doremus.graphml\",\n",
    "    encoding='utf-8',\n",
    "    infer_numeric_types=False, \n",
    "    named_key_ids=False,\n",
    "    edge_id_from_attribute=None)"
   ]
  },
  {
   "cell_type": "code",
   "execution_count": null,
   "metadata": {},
   "outputs": [],
   "source": [
    "import drawio\n",
    "import sys\n",
    "\n",
    "drawio.write(G, sys.stdout)\n",
    "\n",
    "\n",
    "# with open(\"./doremus_test.drawio\", \"w\") as handle:\n",
    "#     drawio.write(G, handle)"
   ]
  },
  {
   "cell_type": "code",
   "execution_count": null,
   "metadata": {},
   "outputs": [],
   "source": []
  },
  {
   "cell_type": "code",
   "execution_count": null,
   "metadata": {},
   "outputs": [],
   "source": []
  }
 ],
 "metadata": {
  "kernelspec": {
   "display_name": "choco",
   "language": "python",
   "name": "python3"
  },
  "language_info": {
   "codemirror_mode": {
    "name": "ipython",
    "version": 3
   },
   "file_extension": ".py",
   "mimetype": "text/x-python",
   "name": "python",
   "nbconvert_exporter": "python",
   "pygments_lexer": "ipython3",
   "version": "3.9.11"
  },
  "orig_nbformat": 4,
  "vscode": {
   "interpreter": {
    "hash": "9451ea1bf9e02c59b6ca0eabeecd8c422ceaa9dcbba8005fe84a5f52aabda9f4"
   }
  }
 },
 "nbformat": 4,
 "nbformat_minor": 2
}
