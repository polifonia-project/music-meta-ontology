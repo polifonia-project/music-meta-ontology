{
 "cells": [
  {
   "cell_type": "code",
   "execution_count": 1,
   "metadata": {},
   "outputs": [],
   "source": [
    "%load_ext autoreload\n",
    "%autoreload 2"
   ]
  },
  {
   "cell_type": "markdown",
   "metadata": {},
   "source": [
    "# pyMusicMeta tutorial"
   ]
  },
  {
   "cell_type": "code",
   "execution_count": 2,
   "metadata": {},
   "outputs": [],
   "source": [
    "import pymusicmeta as pmm"
   ]
  },
  {
   "cell_type": "code",
   "execution_count": 3,
   "metadata": {},
   "outputs": [],
   "source": [
    "meta_kg = pmm.MusicMetaGraph()"
   ]
  },
  {
   "cell_type": "code",
   "execution_count": 4,
   "metadata": {},
   "outputs": [],
   "source": [
    "# Let's add a music artist\n",
    "\n",
    "bob_dylan = pmm.MusicArtist(\n",
    "    uri=\"https://www.wikidata.org/wiki/Q392\",  # Wikidata URI of Bob Dylan\n",
    "    alias=[\"Bob Dylan\"],\n",
    "    genres=[\n",
    "        \"https://www.wikidata.org/wiki/Q11399\",  # Rock music\n",
    "        \"https://www.wikidata.org/wiki/Q9759\",  # Blues music\n",
    "        ],  \n",
    "    influences=[\n",
    "        \"https://www.wikidata.org/wiki/Q4061\",  # Woody Guthrie\n",
    "        \"https://www.wikidata.org/wiki/Q6711\",  # Allen Ginsberg\n",
    "    ],\n",
    ")\n"
   ]
  },
  {
   "cell_type": "code",
   "execution_count": 5,
   "metadata": {},
   "outputs": [],
   "source": [
    "beatles = pmm.MusicEnsemble(\n",
    "    uri=\"https://www.wikidata.org/wiki/Q1299\",\n",
    "    formation_place=\"https://www.wikidata.org/wiki/Q24826\"  # Liverpool\n",
    ")\n",
    "\n",
    "beatles.add_activity(\"1960\", \"1970\")"
   ]
  },
  {
   "cell_type": "code",
   "execution_count": 6,
   "metadata": {},
   "outputs": [],
   "source": [
    "meta_kg.add_artist(bob_dylan)\n",
    "meta_kg.add_artist(beatles)"
   ]
  },
  {
   "cell_type": "code",
   "execution_count": 7,
   "metadata": {},
   "outputs": [
    {
     "name": "stdout",
     "output_type": "stream",
     "text": [
      "@prefix ns1: <http://w3id.org/polifonia/music-meta/> .\n",
      "@prefix xsd: <http://www.w3.org/2001/XMLSchema#> .\n",
      "\n",
      "<https://www.wikidata.org/wiki/Q1299> a <http://w3id.org/polifonia/core/MusicArtist>,\n",
      "        <http://w3id.org/polifonia/core/MusicEnsemble> ;\n",
      "    ns1:activityEndDate \"1970-01-01\"^^xsd:date ;\n",
      "    ns1:activityStartDate \"1960-01-01\"^^xsd:date ;\n",
      "    ns1:wasFormedIn <https://www.wikidata.org/wiki/Q24826> .\n",
      "\n",
      "<https://www.wikidata.org/wiki/Q4061> ns1:influenced <https://www.wikidata.org/wiki/Q392> .\n",
      "\n",
      "<https://www.wikidata.org/wiki/Q6711> ns1:influenced <https://www.wikidata.org/wiki/Q392> .\n",
      "\n",
      "<https://www.wikidata.org/wiki/Q392> a <http://w3id.org/polifonia/core/MusicArtist> ;\n",
      "    ns1:hasGenre <https://www.wikidata.org/wiki/Q11399>,\n",
      "        <https://www.wikidata.org/wiki/Q9759> ;\n",
      "    ns1:isInfluencedBy <https://www.wikidata.org/wiki/Q4061>,\n",
      "        <https://www.wikidata.org/wiki/Q6711> .\n",
      "\n",
      "\n"
     ]
    }
   ],
   "source": [
    "print(meta_kg.serialize(format=\"turtle\"))"
   ]
  },
  {
   "cell_type": "code",
   "execution_count": null,
   "metadata": {},
   "outputs": [],
   "source": []
  }
 ],
 "metadata": {
  "kernelspec": {
   "display_name": "choco",
   "language": "python",
   "name": "python3"
  },
  "language_info": {
   "codemirror_mode": {
    "name": "ipython",
    "version": 3
   },
   "file_extension": ".py",
   "mimetype": "text/x-python",
   "name": "python",
   "nbconvert_exporter": "python",
   "pygments_lexer": "ipython3",
   "version": "3.9.11"
  },
  "orig_nbformat": 4
 },
 "nbformat": 4,
 "nbformat_minor": 2
}
